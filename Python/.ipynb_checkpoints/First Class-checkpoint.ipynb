{
 "cells": [
  {
   "cell_type": "code",
   "execution_count": 2,
   "metadata": {},
   "outputs": [
    {
     "name": "stdout",
     "output_type": "stream",
     "text": [
      "Hellow Enter\n"
     ]
    }
   ],
   "source": [
    "#CTRL + Enter\n",
    "print(\"Hellow Enter\")"
   ]
  },
  {
   "cell_type": "code",
   "execution_count": 4,
   "metadata": {},
   "outputs": [
    {
     "name": "stdout",
     "output_type": "stream",
     "text": [
      "Agay Chal oay\n"
     ]
    }
   ],
   "source": [
    "#Shift + Enter \n",
    "print(\"Agay Chal oay\")"
   ]
  },
  {
   "cell_type": "markdown",
   "metadata": {},
   "source": [
    "###### Markdown\n",
    "##### Bahria University\n",
    "- 02:21 10/27/2019\n"
   ]
  },
  {
   "cell_type": "raw",
   "metadata": {},
   "source": [
    "### Raw NBConvert\n",
    "function abc (a,b):\n",
    "    {\n",
    "        return a+b;\n",
    "    }"
   ]
  },
  {
   "cell_type": "code",
   "execution_count": 9,
   "metadata": {},
   "outputs": [
    {
     "name": "stdout",
     "output_type": "stream",
     "text": [
      "\n",
      "PIAIC ISLAMABAD BATCH3\n",
      "Name :  Muhammmad Usman\n",
      "Father Name : Muhammad Tariq\n",
      "University : Bahria University Islamabad\n",
      "\n"
     ]
    }
   ],
   "source": [
    "Batch=\"PIAIC ISLAMABAD BATCH3\"\n",
    "Name=\"Muhammmad Usman\"\n",
    "F_Name=\"Muhammad Tariq\"\n",
    "Uni =\"Bahria University Islamabad\"\n",
    "\n",
    "message = \"\"\"\n",
    "{}\n",
    "Name :  {}\n",
    "Father Name : {}\n",
    "University : {}\n",
    "\"\"\"\n",
    "\n",
    "message1=message.format(Batch,Name,F_Name,Uni)\n",
    "print(message1)"
   ]
  },
  {
   "cell_type": "code",
   "execution_count": 6,
   "metadata": {},
   "outputs": [
    {
     "name": "stdout",
     "output_type": "stream",
     "text": [
      "Please Enter Name:Usman\n",
      "Please Enter Father Name:Tariq\n",
      "Please Enter University Name:PMAs\n",
      "Enyter Marks for Subject 1 :10\n",
      "Enyter Marks for Subject 2 :10\n",
      "Enyter Marks for Subject 3 :10\n",
      "Enyter Marks for Subject 4 :10\n",
      "Enyter Marks for Subject 5 :10\n",
      "Total Percentage is: 100.0 %\n"
     ]
    }
   ],
   "source": [
    "Name=input(\"Please Enter Name:\")\n",
    "\n",
    "F_Name=input(\"Please Enter Father Name:\")\n",
    "\n",
    "Uni=input(\"Please Enter University Name:\")\n",
    "\n",
    "Sub1=input(\"Enyter Marks for Subject 1 :\")\n",
    "Sub2=input(\"Enyter Marks for Subject 2 :\")\n",
    "Sub3=input(\"Enyter Marks for Subject 3 :\")\n",
    "Sub4=input(\"Enyter Marks for Subject 4 :\")\n",
    "Sub5=input(\"Enyter Marks for Subject 5 :\")\n",
    "total=50\n",
    "Percentage=((int(Sub1)+int(Sub2)+int(Sub3)+int(Sub4)+int(Sub5))/total)*100\n",
    "print(\"Total Percentage is:\",Percentage,\"%\")\n"
   ]
  },
  {
   "cell_type": "code",
   "execution_count": null,
   "metadata": {},
   "outputs": [],
   "source": []
  }
 ],
 "metadata": {
  "kernelspec": {
   "display_name": "Python 3",
   "language": "python",
   "name": "python3"
  },
  "language_info": {
   "codemirror_mode": {
    "name": "ipython",
    "version": 3
   },
   "file_extension": ".py",
   "mimetype": "text/x-python",
   "name": "python",
   "nbconvert_exporter": "python",
   "pygments_lexer": "ipython3",
   "version": "3.7.3"
  }
 },
 "nbformat": 4,
 "nbformat_minor": 2
}
